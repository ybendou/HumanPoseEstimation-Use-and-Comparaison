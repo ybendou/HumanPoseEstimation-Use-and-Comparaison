{
 "cells": [
  {
   "cell_type": "code",
   "execution_count": 29,
   "metadata": {},
   "outputs": [],
   "source": [
    "import numpy as np\n",
    "import cv2\n",
    "import time\n",
    "fps_time=0\n",
    "fourcc = cv2.VideoWriter_fourcc('X','V','I','D')\n",
    "out = cv2.VideoWriter('./output_videos/output.mp4',fourcc, 10, (1920,1080))\n",
    "\n",
    "for num in range(1,133):\n",
    "    frame=cv2.imread(\"./rgbjpg/%s.jpg\"%format(num,\"04\"))\n",
    "    out.write(frame)\n",
    "#Re\n",
    "out.release()\n",
    "cv2.destroyAllWindows()"
   ]
  },
  {
   "cell_type": "code",
   "execution_count": null,
   "metadata": {},
   "outputs": [],
   "source": []
  }
 ],
 "metadata": {
  "kernelspec": {
   "display_name": "Python 3",
   "language": "python",
   "name": "python3"
  },
  "language_info": {
   "codemirror_mode": {
    "name": "ipython",
    "version": 3
   },
   "file_extension": ".py",
   "mimetype": "text/x-python",
   "name": "python",
   "nbconvert_exporter": "python",
   "pygments_lexer": "ipython3",
   "version": "3.6.5"
  }
 },
 "nbformat": 4,
 "nbformat_minor": 2
}
