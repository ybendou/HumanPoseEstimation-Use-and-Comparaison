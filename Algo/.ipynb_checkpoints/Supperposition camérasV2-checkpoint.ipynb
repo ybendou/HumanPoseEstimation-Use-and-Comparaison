{
 "cells": [
  {
   "cell_type": "code",
   "execution_count": 1,
   "metadata": {},
   "outputs": [],
   "source": [
    "import numpy as np\n",
    "import json\n",
    "import scipy.interpolate\n",
    "import matplotlib.pyplot as plt\n",
    "from collections import OrderedDict\n",
    "from pprint import pprint\n"
   ]
  },
  {
   "cell_type": "code",
   "execution_count": 2,
   "metadata": {},
   "outputs": [
    {
     "name": "stdout",
     "output_type": "stream",
     "text": [
      "./Données/Kinect/chris1/chris1_1.txt\n"
     ]
    }
   ],
   "source": [
    "camera=\"Kinect\"\n",
    "if camera==\"Kinect\":\n",
    "    form=\".txt\"\n",
    "elif camera==\"Xsens\":\n",
    "    form=\".mvnx\"\n",
    "file_name=\"./Données/%s/chris1/chris1_1%s\"%(camera,form)\n",
    "print(file_name)"
   ]
  },
  {
   "cell_type": "code",
   "execution_count": 3,
   "metadata": {},
   "outputs": [
    {
     "name": "stdout",
     "output_type": "stream",
     "text": [
      "./Données/Kinect/chris1/chris1_1.txt\n"
     ]
    }
   ],
   "source": [
    "file_name2=\"./Données/Xsens/chris1/chris1_1.txt\"\n",
    "print(file_name)"
   ]
  },
  {
   "cell_type": "code",
   "execution_count": 4,
   "metadata": {},
   "outputs": [],
   "source": [
    "\n",
    "with open(file_name) as f:\n",
    "    data = json.load(f, object_pairs_hook=OrderedDict)\n",
    "Times=list(data['positions'].keys())\n",
    "positions=data['positions']"
   ]
  },
  {
   "cell_type": "code",
   "execution_count": 160,
   "metadata": {},
   "outputs": [],
   "source": [
    "file_name3=\"./Données/Mobilenet/chris1/chris1_1.txt\"\n",
    "with open(file_name3) as f3:\n",
    "    dataMobilenet=json.load(f3,object_pairs_hook=OrderedDict)\n",
    "positions3=dataMobilenet['positions']\n",
    "mobilenet_pos=dataMobilenet['positions']['0']"
   ]
  },
  {
   "cell_type": "code",
   "execution_count": 97,
   "metadata": {},
   "outputs": [],
   "source": [
    "\n",
    "with open(file_name2) as f2:\n",
    "    data2 = json.load(f2, object_pairs_hook=OrderedDict)\n",
    "Times2=list(data2['positions'].keys())\n",
    "positions2=data2['positions']\n",
    "first_frame2=positions2['0']\n",
    "first_frame=positions['0.00045123376082756295']\n"
   ]
  },
  {
   "cell_type": "code",
   "execution_count": 161,
   "metadata": {},
   "outputs": [],
   "source": [
    "#Rescaling the Mobilenet Skeleton to Match with the Kinect Skeleton\n",
    "#scale=[2.25,1.75]\n",
    "#scale=[1.258417852604806, 1.258417852604806]\n",
    "x_RkneeK,y_RkneeK=float(first_frame['rKnee'][1]),float(first_frame['rKnee'][2])\n",
    "x_RAnkleK,y_RAnkleK=float(first_frame['rAnkle'][1]),float(first_frame['rAnkle'][2])\n",
    "x_LkneeK,y_LkneeK=float(first_frame['lKnee'][1]),float(first_frame['lKnee'][2])\n",
    "x_LAnkleK,y_LAnkleK=float(first_frame['lAnkle'][1]),float(first_frame['lAnkle'][2])\n",
    "\n",
    "x_RkneeM,y_RkneeM=positions3['0']['rKnee'][0],positions3['0']['rKnee'][1]\n",
    "x_RAnkleM,y_RAnkleM=positions3['0']['rAnkle'][0],positions3['0']['rAnkle'][1]\n",
    "x_LkneeM,y_LkneeM=mobilenet_pos['lKnee'][0],mobilenet_pos['lKnee'][1]\n",
    "x_LAnkleM,y_LAnkleM=mobilenet_pos['lAnkle'][0],mobilenet_pos['lAnkle'][1]\n",
    "\n",
    "distance_RightM=np.sqrt((x_RkneeM-x_RAnkleM)**2+(y_RkneeM-y_RAnkleM)**2)\n",
    "distance_LeftM=np.sqrt((x_LkneeM-x_LAnkleM)**2+(y_LkneeM-y_LAnkleM)**2)\n",
    "\n",
    "distance_RightK=np.sqrt((x_RkneeK-x_RAnkleK)**2+(y_RkneeK-y_RAnkleK)**2)\n",
    "distance_LeftK=np.sqrt((x_LkneeK-x_LAnkleK)**2+(y_LkneeK-y_LAnkleK)**2)\n",
    "\n",
    "#We make a mean on the distance between the right and the left legs\n",
    "scale=((distance_RightK/distance_RightM)+(distance_LeftK/distance_LeftM))/2\n",
    "\n",
    "for bPart in mobilenet_pos.keys():\n",
    "    pos=mobilenet_pos[bPart]\n",
    "    \n",
    "    scale_x=pos[0]*scale\n",
    "    scale_y=pos[1]*scale\n",
    "    mobilenet_pos[bPart]=[scale_x,scale_y]"
   ]
  },
  {
   "cell_type": "code",
   "execution_count": 156,
   "metadata": {},
   "outputs": [
    {
     "data": {
      "text/plain": [
       "array([-3, -3])"
      ]
     },
     "execution_count": 156,
     "metadata": {},
     "output_type": "execute_result"
    }
   ],
   "source": [
    "np.subtract([1,2],[4,5])"
   ]
  },
  {
   "cell_type": "code",
   "execution_count": 162,
   "metadata": {},
   "outputs": [],
   "source": [
    "#Translating the Mobilenet Skeleton to match with Kinect Skeleton in the mShoulder\n",
    "translateMobilenet=[0.7845021623911128, -0.09666962208955188] #scale 1.5\n",
    "translateMobilenet=[1.0437614216503721, -0.09666962208955188] #scale 2,1.5\n",
    "translateMobilenet=[1.1733910512800017, -0.03009353513303009] #scale 2.25,1.75\n",
    "translateMobilenet=[0.0, 0.0] #scale 2.25,1.75\n",
    "\n",
    "first_frame_Kinect=positions[list(positions.keys())[0]]\n",
    "first_frame_Mobilenet=positions3[list(positions3.keys())[0]]\n",
    "mShoulder_Kinect_pos=first_frame_Kinect['mShoulder']\n",
    "mShoulder_Mobilenet_pos=first_frame_Mobilenet['mShoulder']\n",
    "\n",
    "translateMobilenet=[mShoulder_Mobilenet_pos[0]-mShoulder_Kinect_pos[1],mShoulder_Mobilenet_pos[1]-mShoulder_Kinect_pos[2]]\n",
    "for bPart in mobilenet_pos.keys():\n",
    "    pos=mobilenet_pos[bPart]\n",
    "    \n",
    "    trans_x=-pos[0]+translateMobilenet[0]+2*mShoulder_Kinect_pos[1]\n",
    "    trans_y=2*mShoulder_Kinect_pos[2]-pos[1]+translateMobilenet[1]\n",
    "    mobilenet_pos[bPart]=[trans_x,trans_y]"
   ]
  },
  {
   "cell_type": "code",
   "execution_count": 98,
   "metadata": {},
   "outputs": [],
   "source": [
    "#For Xsens : rotation then translation\n",
    "teta=np.pi/11-np.pi/50\n",
    "Rotation_y=np.array([[np.cos(teta),-np.sin(teta),0],[np.sin(teta),np.cos(teta),0],[0,0,1]])\n",
    "for bPart in first_frame2.keys():\n",
    "    pos=first_frame2[bPart]\n",
    "    pos_float=[]\n",
    "    for coord in pos:\n",
    "        pos_float.append(float(coord))\n",
    "    first_frame2[bPart]=np.dot(pos_float,Rotation_y)\n",
    "    "
   ]
  },
  {
   "cell_type": "code",
   "execution_count": 93,
   "metadata": {},
   "outputs": [],
   "source": [
    "#For Xsens : rotation then translation\n",
    "\n",
    "for bPart in positions2['0'].keys():\n",
    "    pos=positions2['0'][bPart]\n",
    "    pos_float=[]\n",
    "    for coord in pos:\n",
    "        pos_float.append(float(coord))\n",
    "    positions2['0'][bPart]=np.dot(pos_float,R)\n",
    "    "
   ]
  },
  {
   "cell_type": "code",
   "execution_count": 100,
   "metadata": {},
   "outputs": [],
   "source": [
    "scale=[0.9,1]\n",
    "for bPart in positions2['0'].keys():\n",
    "    pos=positions2['0'][bPart]\n",
    "    \n",
    "    scale_x=float(pos[1])*scale[0]\n",
    "    scale_y=float(pos[2])*scale[1]\n",
    "    positions2['0'][bPart]=[float(pos[0]),scale_x,scale_y]"
   ]
  },
  {
   "cell_type": "code",
   "execution_count": 99,
   "metadata": {},
   "outputs": [],
   "source": [
    "translateXSens=[0.003499753200566387, 0.5451910735626221]\n",
    "\n",
    "#translateXSens=[0,0]\n",
    "for bPart in first_frame2.keys():\n",
    "    pos=first_frame2[bPart]\n",
    "    pos_float=[]\n",
    "    for coord in pos:\n",
    "        pos_float.append(float(coord))\n",
    "    trans_x=-pos_float[1]+translateXSens[0]+2*(-0.006724384613335133)\n",
    "    trans_y=pos_float[2]-translateXSens[1]\n",
    "    first_frame2[bPart]=[pos_float[0],trans_x,trans_y]"
   ]
  },
  {
   "cell_type": "code",
   "execution_count": 17,
   "metadata": {},
   "outputs": [
    {
     "data": {
      "text/plain": [
       "1628"
      ]
     },
     "execution_count": 17,
     "metadata": {},
     "output_type": "execute_result"
    }
   ],
   "source": [
    "Reference_Times=[t/58.75 for t in range(0,1628)]\n",
    "\n",
    "len(Reference_Times)"
   ]
  },
  {
   "cell_type": "code",
   "execution_count": 21,
   "metadata": {},
   "outputs": [],
   "source": [
    "XsensL=list(positions2.keys())\n",
    "XsensL_float=[]\n",
    "for i in XsensL:\n",
    "    XsensL_float.append(int(i))\n",
    "XsensL_float=sorted(XsensL_float)\n",
    "\n",
    "\n",
    "new_Xsens_Times=[]\n",
    "Reference_Times=[t/58.75 for t in range(1,1629)]\n",
    "index=0\n",
    "dict_Time={}\n",
    "new_pos={}\n",
    "for time in Reference_Times:\n",
    "    dict_Time[time]=[]\n",
    "    list_times=[]\n",
    "    while XsensL_float[index]/1000<time:\n",
    "        dict_Time[time].append(XsensL_float[index])\n",
    "        list_times.append(XsensL_float[index])\n",
    "        index+=1\n",
    "    real_time=list_times[-1]\n",
    "    \n",
    "    new_pos[time]=positions2[str(real_time)]\n",
    "    "
   ]
  },
  {
   "cell_type": "code",
   "execution_count": 22,
   "metadata": {},
   "outputs": [
    {
     "data": {
      "text/plain": [
       "1628"
      ]
     },
     "execution_count": 22,
     "metadata": {},
     "output_type": "execute_result"
    }
   ],
   "source": [
    "len(list(new_pos.keys()))"
   ]
  },
  {
   "cell_type": "code",
   "execution_count": 11,
   "metadata": {},
   "outputs": [
    {
     "data": {
      "text/plain": [
       "27.693617021276594"
      ]
     },
     "execution_count": 11,
     "metadata": {},
     "output_type": "execute_result"
    }
   ],
   "source": [
    "list(new_pos.keys())[-1]"
   ]
  },
  {
   "cell_type": "code",
   "execution_count": 5,
   "metadata": {},
   "outputs": [
    {
     "data": {
      "text/plain": [
       "dict_keys(['Head', 'mShoulder', 'rShoulder', 'rElbow', 'rWrist', 'lShoulder', 'lElbow', 'lWrist', 'rHip', 'rKnee', 'rAnkle', 'lHip', 'lKnee', 'lAnkle'])"
      ]
     },
     "execution_count": 5,
     "metadata": {},
     "output_type": "execute_result"
    }
   ],
   "source": [
    "mobilenet_maze.keys()"
   ]
  },
  {
   "cell_type": "code",
   "execution_count": 163,
   "metadata": {},
   "outputs": [
    {
     "name": "stdout",
     "output_type": "stream",
     "text": [
      "odict_keys(['Head', 'lAnkle', 'lElbow', 'lHip', 'lKnee', 'lShoulder', 'lWrist', 'mShoulder', 'rAnkle', 'rElbow', 'rHip', 'rKnee', 'rShoulder', 'rWrist'])\n",
      "0.03988368400165765 -0.395324823659287\n"
     ]
    },
    {
     "data": {
      "image/png": "[encoded data removed]",
      "text/plain": [
       "<Figure size 432x288 with 1 Axes>"
      ]
     },
     "metadata": {},
     "output_type": "display_data"
    }
   ],
   "source": [
    "x1=[]\n",
    "x2=[]\n",
    "x3=[]\n",
    "y1=[]\n",
    "y2=[]\n",
    "y3=[]\n",
    "z1=[]\n",
    "z2=[]\n",
    "common_body_parts=['Head', 'lAnkle', 'lElbow', 'lHip', 'lKnee', 'lShoulder', 'lWrist', 'mShoulder', 'rAnkle', 'rElbow', 'rHip', 'rKnee', 'rShoulder', 'rWrist']\n",
    "#mobilenet_maze={'0':['1'],'1':['2','5'],'2':['1','3'],'3':['2','4'],'4':['3'],'5':['1','6'],'6':['5','7'],'7':['6'],'8':['1','9'],'9':['8','10'],'10':['9'],'11':['1','12'],'12':['11','13'],'13':['12']}\n",
    "mobilenet_maze={'Head':['mShoulder'],'mShoulder':['rShoulder','lShoulder','Head'],'rShoulder':['mShoulder','rElbow'],\n",
    "                'rElbow':['rShoulder','rWrist'],'rWrist':['rElbow'],'lShoulder':['mShoulder','lElbow'],\n",
    "                'lElbow':['lShoulder','lWrist'],'lWrist':['lElbow'],'rHip':['mShoulder','rKnee'],\n",
    "                'rKnee':['rHip','rAnkle'],'rAnkle':['rKnee'],'lHip':['mShoulder','lKnee'],\n",
    "                'lKnee':['lHip','lAnkle'],'lAnkle':['lKnee']}\n",
    "\n",
    "Xsens_maze={'Head':['T8'], 'LeftFoot':['LeftLowerLeg'], 'LeftForeArm':['LeftUpperArm','LeftHand'],\n",
    "            'LeftHand':['LeftForeArm'], 'LeftLowerLeg':['LeftFoot','LeftUpperLeg'], 'LeftShoulder':['LeftUpperArm','T8'],\n",
    "            'LeftUpperArm':['LeftShoulder','LeftForeArm'], 'LeftUpperLeg':['LeftLowerLeg','T8'], \n",
    "            'RightFoot':['RightLowerLeg'], 'RightForeArm':['RightUpperArm','RightHand'],'RightHand':['RightForeArm'],\n",
    "            'RightLowerLeg':['RightFoot','RightUpperLeg'], 'RightShoulder':['RightUpperArm','T8'],\n",
    "            'RightUpperArm':['RightForeArm','RightShoulder'], 'RightUpperLeg':['RightLowerLeg','T8'], \n",
    "            'T8':['Head','RightShoulder','LeftShoulder']}\n",
    "\n",
    "Kinect_maze={'Head':['mShoulder'], 'lAnkle':['lKnee'], 'lWrist':['lElbow'],\n",
    "             'lKnee':['lAnkle','lHip'], 'lShoulder':['lElbow','mShoulder'],\n",
    "             'lElbow':['lShoulder','lWrist'], 'lHip':['lKnee','mShoulder'],\n",
    "             'rAnkle':['rKnee'], 'rWrist':['rElbow'], 'rKnee':['rAnkle','rHip'], \n",
    "             'rShoulder':['rElbow','mShoulder'], 'rElbow':['rWrist','rShoulder'], \n",
    "             'rHip':['rKnee','mShoulder'], 'mShoulder':['Head','rShoulder','lShoulder']}\n",
    "\n",
    "body_parts={0:\"Head\",1:\"mShoulder\",2:\"rShoulder\",3:\"rElbow\",4:\"rWrist\",5:\"lShoulder\",\n",
    "            6:\"lElbow\",7:\"lWrist\",8:\"rHip\",9:\"rKnee\",10:\"rAnkle\",11:\"lHip\",12:\"lKnee\",13:\"lAnkle\"}\n",
    "plt.plot(mobilenet_pos['mShoulder'][0],mobilenet_pos['mShoulder'][1],'ro')\n",
    "print(mobilenet_pos.keys())\n",
    "#first_frame2=positions2['934']\n",
    "#first_frame=positions['0.9358690932137534']\n",
    "for bPart in common_body_parts:\n",
    "    x1.append((first_frame[bPart][1]))\n",
    "    y1.append(first_frame[bPart][2])\n",
    "    z1.append(first_frame[bPart][0])\n",
    "for bPart in first_frame2.keys():\n",
    "    x2.append(float(first_frame2[bPart][1]))\n",
    "    y2.append(float(first_frame2[bPart][2]))\n",
    "    z2.append(first_frame2[bPart][0])\n",
    "for bPart in mobilenet_pos.keys():\n",
    "    if bPart=='rAnkle':\n",
    "        print(mobilenet_pos[bPart][0],mobilenet_pos[bPart][1])\n",
    "    x3.append(mobilenet_pos[bPart][0])\n",
    "    y3.append(mobilenet_pos[bPart][1])\n",
    "#Kinect\n",
    "plt.plot(x1,y1,'ro')\n",
    "#Xsens\n",
    "plt.plot(x2,y2,'bo')\n",
    "\n",
    "for point in Kinect_maze:\n",
    "    connected_points=Kinect_maze[point]\n",
    "    for p in connected_points:\n",
    "        plt.plot([first_frame[p][1],first_frame[point][1]],[first_frame[p][2],first_frame[point][2]],color='red')\n",
    "\n",
    "    \n",
    "#for point in Xsens_maze:\n",
    " #   connected_points=Xsens_maze[point]\n",
    "  #  for p in connected_points:\n",
    "   #     plt.plot([first_frame2[p][1],first_frame2[point][1]],[first_frame2[p][2],first_frame2[point][2]],color='blue')\n",
    "        \n",
    "\n",
    "#x_Pelvis,y_Pelvis=float(first_frame2['Pelvis'][1]),float(first_frame2['Pelvis'][2])\n",
    "x_T8,y_T8=float(first_frame2['T8'][1]),float(first_frame2['T8'][2])\n",
    "plt.plot(first_frame['mShoulder'][1],first_frame['mShoulder'][2],'bo')\n",
    "#plt.plot(x_Pelvis,y_Pelvis,'go')\n",
    "#plt.plot(x_T8,y_T8,'go')\n",
    "#plt.plot([x_Pelvis,x_T8],[y_Pelvis,y_T8])\n",
    "x_Lknee,y_Lknee,z_Lknee=float(first_frame2['LeftLowerLeg'][1]),float(first_frame2['LeftLowerLeg'][2]),float(first_frame2['LeftLowerLeg'][0])\n",
    "#plt.plot(x_Lknee,y_Lknee,'go')\n",
    "#Mobilenet\n",
    "plt.plot(x3,y3,'go')\n",
    "for point in mobilenet_maze:\n",
    "    if point in mobilenet_pos:\n",
    "        connected_points=mobilenet_maze[point]\n",
    "        for p in connected_points:\n",
    "            if p in mobilenet_pos:\n",
    "                plt.plot([mobilenet_pos[p][0],mobilenet_pos[point][0]],[mobilenet_pos[p][1],mobilenet_pos[point][1]],color='green')\n",
    "plt.plot(x_RAnkleM,y_RAnkleM,'ro')\n",
    "plt.plot(mobilenet_pos['rAnkle'][0],mobilenet_pos['rAnkle'][1],'ro')\n",
    "plt.plot(x_RkneeM,y_RkneeM,'ro')\n",
    "\n",
    "plt.show()\n",
    "\n",
    "first_frame2=positions2['0']\n",
    "first_frame=positions['0.00045123376082756295']\n",
    "mobilenet_pos=positions3['0']"
   ]
  },
  {
   "cell_type": "code",
   "execution_count": 76,
   "metadata": {},
   "outputs": [],
   "source": [
    "pos_mShoulder=positions['0.00045123376082756295']['mShoulder']\n",
    "pos_rHip=positions['0.00045123376082756295']['rHip']\n",
    "pos_lHip=positions['0.00045123376082756295']['lHip']\n",
    "\n",
    "pos_T8=[float(pos) for pos in positions2['0']['T8']]\n",
    "pos_rUpperLeg=[float(pos) for pos in positions2['0']['RightUpperLeg']]\n",
    "pos_lUpperLeg=[float(pos) for pos in positions2['0']['LeftUpperLeg']]\n",
    "Xsens_Matrix=np.array([pos_T8,pos_rUpperLeg,pos_lUpperLeg])\n",
    "Kinect_Matrix=np.array([pos_mShoulder,pos_rHip,pos_lHip])\n"
   ]
  },
  {
   "cell_type": "code",
   "execution_count": 77,
   "metadata": {},
   "outputs": [
    {
     "data": {
      "text/plain": [
       "array([[0.775348 , 0.1550979, 0.984252 ],\n",
       "       [0.726898 , 0.2296665, 0.569851 ],\n",
       "       [0.75443  , 0.0751716, 0.568481 ]])"
      ]
     },
     "execution_count": 77,
     "metadata": {},
     "output_type": "execute_result"
    }
   ],
   "source": [
    "Xsens_Matrix"
   ]
  },
  {
   "cell_type": "code",
   "execution_count": 78,
   "metadata": {},
   "outputs": [
    {
     "name": "stdout",
     "output_type": "stream",
     "text": [
      "[[0.75204902 0.14999686 0.63554605]\n",
      " [0.95520113 0.14823088 0.67414061]\n",
      " [2.03841528 0.15256073 0.70224053]]\n"
     ]
    }
   ],
   "source": [
    "R,t=rigid_transform_3D(Kinect_Matrix,Xsens_Matrix)"
   ]
  },
  {
   "cell_type": "code",
   "execution_count": 80,
   "metadata": {},
   "outputs": [
    {
     "data": {
      "text/plain": [
       "array([[0.75204902, 0.14999686, 0.63554605],\n",
       "       [0.95520113, 0.14823088, 0.67414061],\n",
       "       [2.03841528, 0.15256073, 0.70224053]])"
      ]
     },
     "execution_count": 80,
     "metadata": {},
     "output_type": "execute_result"
    }
   ],
   "source": [
    "t"
   ]
  },
  {
   "cell_type": "code",
   "execution_count": 28,
   "metadata": {},
   "outputs": [
    {
     "name": "stdout",
     "output_type": "stream",
     "text": [
      "[[0.22224445]\n",
      " [0.81578801]\n",
      " [0.53685149]]\n"
     ]
    }
   ],
   "source": [
    "from numpy import *\n",
    "from math import sqrt\n",
    "\n",
    "# Input: expects Nx3 matrix of points\n",
    "# Returns R,t\n",
    "# R = 3x3 rotation matrix\n",
    "# t = 3x1 column vector\n",
    "\n",
    "def rigid_transform_3D(A, B):\n",
    "    assert len(A) == len(B)\n",
    "\n",
    "    N = A.shape[0]; # total points\n",
    "\n",
    "    centroid_A = mean(A, axis=0)\n",
    "    centroid_B = mean(B, axis=0)\n",
    "    \n",
    "    # centre the points\n",
    "    AA = A - tile(centroid_A, (N, 1))\n",
    "    BB = B - tile(centroid_B, (N, 1))\n",
    "\n",
    "    # dot is matrix multiplication for array\n",
    "    H = transpose(AA) * BB\n",
    "\n",
    "    U, S, Vt = linalg.svd(H)\n",
    "\n",
    "    R = Vt.T * U.T\n",
    "\n",
    "    # special reflection case\n",
    "    if linalg.det(R) < 0:\n",
    "        print(\"Reflection detected\")\n",
    "        Vt[2,:] *= -1\n",
    "        R = Vt.T * U.T\n",
    "\n",
    "    t = -R*centroid_A.T + centroid_B.T\n",
    "\n",
    "    print(t)\n",
    "\n",
    "    return R, t\n",
    "\n",
    "# Test with random data\n",
    "\n",
    "# Random rotation and translation\n",
    "R = mat(random.rand(3,3))\n",
    "t = mat(random.rand(3,1))\n",
    "\n",
    "# make R a proper rotation matrix, force orthonormal\n",
    "U, S, Vt = linalg.svd(R)\n",
    "R = U*Vt\n",
    "\n",
    "# remove reflection\n",
    "if linalg.det(R) < 0:\n",
    "    Vt[2,:] *= -1\n",
    "    R = U*Vt\n",
    "\n",
    "# number of points\n",
    "n = 10\n",
    "\n",
    "A = mat(random.rand(n,3));\n",
    "B = R*A.T + tile(t, (1, n))\n",
    "B = B.T;\n",
    "\n",
    "# recover the transformation\n",
    "ret_R, ret_t = rigid_transform_3D(A, B)\n",
    "\n",
    "A2 = (ret_R*A.T) + tile(ret_t, (1, n))\n",
    "A2 = A2.T\n",
    "\n",
    "# Find the error\n",
    "err = A2 - B"
   ]
  },
  {
   "cell_type": "code",
   "execution_count": 451,
   "metadata": {},
   "outputs": [
    {
     "data": {
      "text/plain": [
       "1628"
      ]
     },
     "execution_count": 451,
     "metadata": {},
     "output_type": "execute_result"
    }
   ],
   "source": [
    "len(list(positions3.keys()))"
   ]
  },
  {
   "cell_type": "raw",
   "metadata": {},
   "source": [
    "Kinect_maze={}\n",
    "body_parts={0:\"Head\",1:\"mShoulder\",2:\"rShoulder\",3:\"rElbow\",4:\"rWrist\",5:\"lShoulder\",6:\"lElbow\",7:\"lWrist\",8:\"rHip\",9:\"rKnee\",10:\"rAnkle\",11:\"lHip\",12:\"lKnee\",13:\"lAnkle\"}"
   ]
  },
  {
   "cell_type": "code",
   "execution_count": 134,
   "metadata": {},
   "outputs": [],
   "source": [
    "x_RkneeK,y_RkneeK=float(first_frame['rKnee'][1]),float(first_frame['rKnee'][2])\n",
    "x_RAnkleK,y_RAnkleK=float(first_frame['rAnkle'][1]),float(first_frame['rAnkle'][2])\n",
    "x_LkneeK,y_LkneeK=float(first_frame['lKnee'][1]),float(first_frame['lKnee'][2])\n",
    "x_LAnkleK,y_LAnkleK=float(first_frame['lAnkle'][1]),float(first_frame['lAnkle'][2])\n",
    "\n",
    "x_RkneeM,y_RkneeM=positions3['0']['rKnee'][0],positions3['0']['rKnee'][1]\n",
    "x_RAnkleM,y_RAnkleM=positions3['0']['rAnkle'][0],positions3['0']['rAnkle'][1]\n",
    "x_LkneeM,y_LkneeM=mobilenet_pos['lKnee'][0],mobilenet_pos['lKnee'][1]\n",
    "x_LAnkleM,y_LAnkleM=mobilenet_pos['lAnkle'][0],mobilenet_pos['lAnkle'][1]"
   ]
  },
  {
   "cell_type": "code",
   "execution_count": 135,
   "metadata": {},
   "outputs": [],
   "source": [
    "distance_RightM=np.sqrt((x_RkneeM-x_RAnkleM)**2+(y_RkneeM-y_RAnkleM)**2)\n",
    "distance_LeftM=np.sqrt((x_LkneeM-x_LAnkleM)**2+(y_LkneeM-y_LAnkleM)**2)\n",
    "\n",
    "distance_RightK=np.sqrt((x_RkneeK-x_RAnkleK)**2+(y_RkneeK-y_RAnkleK)**2)\n",
    "distance_LeftK=np.sqrt((x_LkneeK-x_LAnkleK)**2+(y_LkneeK-y_LAnkleK)**2)\n",
    "\n"
   ]
  },
  {
   "cell_type": "code",
   "execution_count": 136,
   "metadata": {},
   "outputs": [
    {
     "data": {
      "text/plain": [
       "(0.48148148148148145, 0.8967391304347826)"
      ]
     },
     "execution_count": 136,
     "metadata": {},
     "output_type": "execute_result"
    }
   ],
   "source": [
    "mobilenet_pos['rAnkle'][0],mobilenet_pos['rAnkle'][1]"
   ]
  },
  {
   "cell_type": "code",
   "execution_count": 137,
   "metadata": {},
   "outputs": [
    {
     "data": {
      "text/plain": [
       "(0.625, 0.8967391304347826, -0.11252230405807495, -0.4565501809120178)"
      ]
     },
     "execution_count": 137,
     "metadata": {},
     "output_type": "execute_result"
    }
   ],
   "source": [
    "y_RkneeM,y_RAnkleM,y_RkneeK,y_RAnkleK"
   ]
  },
  {
   "cell_type": "code",
   "execution_count": 138,
   "metadata": {},
   "outputs": [
    {
     "data": {
      "text/plain": [
       "(-0.0410333126783371,\n",
       " -0.027777777777777735,\n",
       " -0.2717391304347826,\n",
       " 0.34402787685394287)"
      ]
     },
     "execution_count": 138,
     "metadata": {},
     "output_type": "execute_result"
    }
   ],
   "source": [
    "x_RkneeK-x_RAnkleK,x_RkneeM-x_RAnkleM,y_RkneeM-y_RAnkleM,y_RkneeK-y_RAnkleK"
   ]
  },
  {
   "cell_type": "code",
   "execution_count": 142,
   "metadata": {},
   "outputs": [
    {
     "data": {
      "text/plain": [
       "1.258417852604806"
      ]
     },
     "execution_count": 142,
     "metadata": {},
     "output_type": "execute_result"
    }
   ],
   "source": [
    "((distance_RightK/distance_RightM)+(distance_LeftK/distance_LeftM))/2"
   ]
  },
  {
   "cell_type": "code",
   "execution_count": 309,
   "metadata": {},
   "outputs": [
    {
     "data": {
      "text/plain": [
       "(-0.0005134753882884979, -0.00035443902015686035)"
      ]
     },
     "execution_count": 309,
     "metadata": {},
     "output_type": "execute_result"
    }
   ],
   "source": [
    "x_mS,y_mS=float(mobilenet_pos['mShoulder'][0]),float(mobilenet_pos['mShoulder'][1])\n",
    "\n",
    "x_mS-first_frame['mShoulder'][1],y_mS-first_frame['mShoulder'][2]"
   ]
  },
  {
   "cell_type": "code",
   "execution_count": 125,
   "metadata": {},
   "outputs": [
    {
     "data": {
      "text/plain": [
       "odict_keys(['Head', 'Neck', 'bSpine', 'lAnkle', 'lElbow', 'lHand', 'lHip', 'lKnee', 'lShoulder', 'lThumb', 'lWrist', 'mShoulder', 'mSpine', 'rAnkle', 'rElbow', 'rHand', 'rHip', 'rKnee', 'rShoulder', 'rThumb', 'rWrist'])"
      ]
     },
     "execution_count": 125,
     "metadata": {},
     "output_type": "execute_result"
    }
   ],
   "source": [
    "first_frame.keys()"
   ]
  },
  {
   "cell_type": "code",
   "execution_count": 82,
   "metadata": {},
   "outputs": [
    {
     "data": {
      "text/plain": [
       "(0.003499753200566387, 0.5451910735626221)"
      ]
     },
     "execution_count": 82,
     "metadata": {},
     "output_type": "execute_result"
    }
   ],
   "source": [
    "x_T8,y_T8=float(first_frame2['T8'][1]),float(first_frame2['T8'][2])\n",
    "x_T8-first_frame['mShoulder'][1],y_T8-first_frame['mShoulder'][2]"
   ]
  },
  {
   "cell_type": "code",
   "execution_count": 11,
   "metadata": {},
   "outputs": [
    {
     "ename": "KeyError",
     "evalue": "'Pelvis'",
     "output_type": "error",
     "traceback": [
      "\u001b[0;31m---------------------------------------------------------------------------\u001b[0m",
      "\u001b[0;31mKeyError\u001b[0m                                  Traceback (most recent call last)",
      "\u001b[0;32m<ipython-input-11-4389ca6e1c26>\u001b[0m in \u001b[0;36m<module>\u001b[0;34m()\u001b[0m\n\u001b[1;32m      6\u001b[0m \u001b[0mx_RShoulder\u001b[0m\u001b[0;34m,\u001b[0m\u001b[0my_RShoulder\u001b[0m\u001b[0;34m,\u001b[0m\u001b[0mz_RShoulder\u001b[0m\u001b[0;34m=\u001b[0m\u001b[0mfloat\u001b[0m\u001b[0;34m(\u001b[0m\u001b[0mfirst_frame2\u001b[0m\u001b[0;34m[\u001b[0m\u001b[0;34m'RightShoulder'\u001b[0m\u001b[0;34m]\u001b[0m\u001b[0;34m[\u001b[0m\u001b[0;36m1\u001b[0m\u001b[0;34m]\u001b[0m\u001b[0;34m)\u001b[0m\u001b[0;34m,\u001b[0m\u001b[0mfloat\u001b[0m\u001b[0;34m(\u001b[0m\u001b[0mfirst_frame2\u001b[0m\u001b[0;34m[\u001b[0m\u001b[0;34m'RightShoulder'\u001b[0m\u001b[0;34m]\u001b[0m\u001b[0;34m[\u001b[0m\u001b[0;36m2\u001b[0m\u001b[0;34m]\u001b[0m\u001b[0;34m)\u001b[0m\u001b[0;34m,\u001b[0m\u001b[0mfloat\u001b[0m\u001b[0;34m(\u001b[0m\u001b[0mfirst_frame2\u001b[0m\u001b[0;34m[\u001b[0m\u001b[0;34m'RightShoulder'\u001b[0m\u001b[0;34m]\u001b[0m\u001b[0;34m[\u001b[0m\u001b[0;36m0\u001b[0m\u001b[0;34m]\u001b[0m\u001b[0;34m)\u001b[0m\u001b[0;34m\u001b[0m\u001b[0m\n\u001b[1;32m      7\u001b[0m \u001b[0mx_LShoulder\u001b[0m\u001b[0;34m,\u001b[0m\u001b[0my_LShoulder\u001b[0m\u001b[0;34m,\u001b[0m\u001b[0mz_LShoulder\u001b[0m\u001b[0;34m=\u001b[0m\u001b[0mfloat\u001b[0m\u001b[0;34m(\u001b[0m\u001b[0mfirst_frame2\u001b[0m\u001b[0;34m[\u001b[0m\u001b[0;34m'LeftShoulder'\u001b[0m\u001b[0;34m]\u001b[0m\u001b[0;34m[\u001b[0m\u001b[0;36m1\u001b[0m\u001b[0;34m]\u001b[0m\u001b[0;34m)\u001b[0m\u001b[0;34m,\u001b[0m\u001b[0mfloat\u001b[0m\u001b[0;34m(\u001b[0m\u001b[0mfirst_frame2\u001b[0m\u001b[0;34m[\u001b[0m\u001b[0;34m'LeftShoulder'\u001b[0m\u001b[0;34m]\u001b[0m\u001b[0;34m[\u001b[0m\u001b[0;36m2\u001b[0m\u001b[0;34m]\u001b[0m\u001b[0;34m)\u001b[0m\u001b[0;34m,\u001b[0m\u001b[0mfloat\u001b[0m\u001b[0;34m(\u001b[0m\u001b[0mfirst_frame2\u001b[0m\u001b[0;34m[\u001b[0m\u001b[0;34m'LeftShoulder'\u001b[0m\u001b[0;34m]\u001b[0m\u001b[0;34m[\u001b[0m\u001b[0;36m0\u001b[0m\u001b[0;34m]\u001b[0m\u001b[0;34m)\u001b[0m\u001b[0;34m\u001b[0m\u001b[0m\n\u001b[0;32m----> 8\u001b[0;31m \u001b[0mx_Pelvis\u001b[0m\u001b[0;34m,\u001b[0m\u001b[0my_Pelvis\u001b[0m\u001b[0;34m=\u001b[0m\u001b[0mfloat\u001b[0m\u001b[0;34m(\u001b[0m\u001b[0mfirst_frame2\u001b[0m\u001b[0;34m[\u001b[0m\u001b[0;34m'Pelvis'\u001b[0m\u001b[0;34m]\u001b[0m\u001b[0;34m[\u001b[0m\u001b[0;36m1\u001b[0m\u001b[0;34m]\u001b[0m\u001b[0;34m)\u001b[0m\u001b[0;34m,\u001b[0m\u001b[0mfloat\u001b[0m\u001b[0;34m(\u001b[0m\u001b[0mfirst_frame2\u001b[0m\u001b[0;34m[\u001b[0m\u001b[0;34m'Pelvis'\u001b[0m\u001b[0;34m]\u001b[0m\u001b[0;34m[\u001b[0m\u001b[0;36m2\u001b[0m\u001b[0;34m]\u001b[0m\u001b[0;34m)\u001b[0m\u001b[0;34m\u001b[0m\u001b[0m\n\u001b[0m",
      "\u001b[0;31mKeyError\u001b[0m: 'Pelvis'"
     ]
    }
   ],
   "source": [
    "x_Rknee,y_Rknee,z_Rknee=float(first_frame2['RightLowerLeg'][1]),float(first_frame2['RightLowerLeg'][2]),float(first_frame2['RightLowerLeg'][0])\n",
    "x_Rhip,y_Rhip,z_Rhip=float(first_frame2['RightUpperLeg'][1]),float(first_frame2['RightUpperLeg'][2]),float(first_frame2['RightUpperLeg'][0])\n",
    "x_Lknee,y_Lknee,z_Lknee=float(first_frame2['LeftLowerLeg'][1]),float(first_frame2['LeftLowerLeg'][2]),float(first_frame2['LeftLowerLeg'][0])\n",
    "x_Lhip,y_Lhip,z_Lhip=float(first_frame2['LeftUpperLeg'][1]),float(first_frame2['LeftUpperLeg'][2]),float(first_frame2['LeftUpperLeg'][0])\n",
    "\n",
    "x_RShoulder,y_RShoulder,z_RShoulder=float(first_frame2['RightShoulder'][1]),float(first_frame2['RightShoulder'][2]),float(first_frame2['RightShoulder'][0])\n",
    "x_LShoulder,y_LShoulder,z_LShoulder=float(first_frame2['LeftShoulder'][1]),float(first_frame2['LeftShoulder'][2]),float(first_frame2['LeftShoulder'][0])\n",
    "x_Pelvis,y_Pelvis=float(first_frame2['Pelvis'][1]),float(first_frame2['Pelvis'][2])\n",
    "\n"
   ]
  },
  {
   "cell_type": "code",
   "execution_count": 60,
   "metadata": {},
   "outputs": [],
   "source": [
    "distance_Right=np.sqrt((x_Rknee-x_Rhip)**2+(y_Rknee-y_Rhip)**2)\n",
    "distance_Left=np.sqrt((x_Lknee-x_Lhip)**2+(y_Lknee-y_Lhip)**2)\n",
    "\n",
    "distance2_Right=np.sqrt((x_RShoulder-x_Pelvis)**2+(y_RShoulder-y_Pelvis)**2)\n",
    "distance2_Left=np.sqrt((x_LShoulder-x_Pelvis)**2+(y_LShoulder-y_Pelvis)**2)\n",
    "\n"
   ]
  },
  {
   "cell_type": "code",
   "execution_count": 61,
   "metadata": {},
   "outputs": [
    {
     "data": {
      "text/plain": [
       "(0.00735539654342586, -6.833491377450374e-05)"
      ]
     },
     "execution_count": 61,
     "metadata": {},
     "output_type": "execute_result"
    }
   ],
   "source": [
    "(distance_Left-distance_Right),(distance2_Left-distance2_Right)"
   ]
  },
  {
   "cell_type": "code",
   "execution_count": 24,
   "metadata": {},
   "outputs": [
    {
     "data": {
      "text/plain": [
       "(0.001890576103076455, -3.518455762063777e-05)"
      ]
     },
     "execution_count": 24,
     "metadata": {},
     "output_type": "execute_result"
    }
   ],
   "source": [
    "(distance_Left-distance_Right),(distance2_Left-distance2_Right)"
   ]
  }
 ],
 "metadata": {
  "kernelspec": {
   "display_name": "Python 3",
   "language": "python",
   "name": "python3"
  },
  "language_info": {
   "codemirror_mode": {
    "name": "ipython",
    "version": 3
   },
   "file_extension": ".py",
   "mimetype": "text/x-python",
   "name": "python",
   "nbconvert_exporter": "python",
   "pygments_lexer": "ipython3",
   "version": "3.6.5"
  }
 },
 "nbformat": 4,
 "nbformat_minor": 2
}
