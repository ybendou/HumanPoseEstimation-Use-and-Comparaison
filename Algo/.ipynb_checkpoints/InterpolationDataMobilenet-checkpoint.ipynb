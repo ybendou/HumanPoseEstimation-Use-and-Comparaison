{
 "cells": [
  {
   "cell_type": "code",
   "execution_count": 1,
   "metadata": {},
   "outputs": [],
   "source": [
    "import numpy as np\n",
    "import json\n",
    "import scipy.interpolate\n",
    "import matplotlib.pyplot as plt\n",
    "from collections import OrderedDict\n",
    "from pprint import pprint\n"
   ]
  },
  {
   "cell_type": "code",
   "execution_count": 11,
   "metadata": {},
   "outputs": [],
   "source": [
    "file_name3=\"./Données/Mobilenet/chris1/chris1_1_transformed.txt\"\n",
    "with open(file_name3) as f3:\n",
    "    dataMobilenet=json.load(f3,object_pairs_hook=OrderedDict)\n",
    "    \n",
    "Times=list(dataMobilenet['positions'].keys()) \n",
    "positions=dataMobilenet['positions']"
   ]
  },
  {
   "cell_type": "code",
   "execution_count": 13,
   "metadata": {},
   "outputs": [],
   "source": [
    "fps=60\n",
    "frames_count=len(list(positions.keys()))"
   ]
  },
  {
   "cell_type": "code",
   "execution_count": 14,
   "metadata": {},
   "outputs": [],
   "source": [
    "def stackPositions(body_Part,Times,positions):\n",
    "    x_bPart_values_array,y_bPart_values_array=body_positions(body_Part,Times,positions)\n",
    "    All_positions=np.stack((x_bPart_values_array,y_bPart_values_array),axis=-1)\n",
    "    return(All_positions)"
   ]
  },
  {
   "cell_type": "code",
   "execution_count": 25,
   "metadata": {},
   "outputs": [],
   "source": [
    "def body_positions(body_Part,Times,positions):\n",
    "    #bParts=['Head', 'mShoulder', 'rShoulder', 'rElbow', 'rWrist', 'lShoulder', 'lElbow', 'lWrist', 'rHip', 'rKnee', 'rAnkle', 'lHip', 'lKnee', 'lAnkle']\n",
    "    \n",
    "    x_bPart_values={}\n",
    "    y_bPart_values={}\n",
    "    tronq_times=[]\n",
    "    for time in Times:\n",
    "        bParts=list(positions[time].keys())\n",
    "        if body_Part in bParts:\n",
    "            x_bPart_values[time]=positions[time][body_Part][0]\n",
    "            y_bPart_values[time]=positions[time][body_Part][1]\n",
    "            tronq_times.append(time)\n",
    "    tronq_times=np.array(tronq_times)\n",
    "    x_bPart_values_list=list(x_bPart_values.values())\n",
    "    x_bPart_values_array=np.array(x_bPart_values_list)\n",
    "\n",
    "    y_bPart_values_list=list(y_bPart_values.values())\n",
    "    y_bPart_values_array=np.array(y_bPart_values_list)\n",
    "\n",
    "    \n",
    "    return(x_bPart_values_array,y_bPart_values_array,tronq_times)\n",
    "\n",
    "def interpolation(x_bPart_values_array,y_bPart_values_array,Times_float,new_times_array):\n",
    "\n",
    "    tau = Times_float[-1] - Times_float[0]\n",
    "    #new_times_array = np.arange(0, tau, tau/len(y_bPart_values_array))\n",
    "    #new_times_array = np.arange(0, 1628/60, 1/30)\n",
    "    #new_times_array = np.arange(0, 2*1628/60, 1/30)\n",
    "\n",
    "    new_xbPart_values = np.zeros(new_times_array.shape)\n",
    "    new_ybPart_values = np.zeros(new_times_array.shape)\n",
    "    y_gen = scipy.interpolate.interp1d(([t-Times_float[0] for t in Times_float]), y_bPart_values_array)\n",
    "    print(sorted(Times_float)[-10:])\n",
    "    y_gen(new_times_array)\n",
    "    print(len(y_gen(new_times_array)))\n",
    "    for i in range(len(new_times_array)):\n",
    "        new_ybPart_values[i]=y_gen(new_times_array[i])\n",
    "    \n",
    "    x_gen = scipy.interpolate.interp1d(([t-Times_float[0] for t in Times_float]), x_bPart_values_array)\n",
    "    x_gen(new_times_array)\n",
    "    for i in range(len(new_times_array)):\n",
    "        new_xbPart_values[i]=x_gen(new_times_array[i])\n",
    "    \n",
    "   \n",
    "    \n",
    "    \n",
    "    return(new_xbPart_values,new_ybPart_values,list(new_times_array))\n",
    "\n",
    "def new_body_positions(body_part,Times,positions,times_array):\n",
    "    x_bPart_values_array,y_bPart_values_array,tronq_times=body_positions(body_part,Times,positions)\n",
    "    \n",
    "    Times_float=[]\n",
    "    for time in tronq_times:\n",
    "        Times_float.append(float(time))\n",
    "    new_xbPart_values,new_ybPart_values,new_Times_float=interpolation(x_bPart_values_array,y_bPart_values_array,Times_float,new_times_array)\n",
    "    print(\"t \",len(new_Times_float),\"y \",len(new_ybPart_values))\n",
    "    plt.plot(new_Times_float,new_ybPart_values,'red')\n",
    "    plt.title(\"y values after interpolation %s\"%body_part)\n",
    "    plt.show()\n",
    "    plt.plot(new_Times_float,new_xbPart_values,'blue')\n",
    "    plt.title(\"x values after interpolation %s\"%body_part)\n",
    "    plt.show()\n",
    "   \n",
    "    new_bPart_Positions=np.stack((new_xbPart_values,new_ybPart_values),axis=-1)\n",
    "    return(new_bPart_Positions,new_Times_float)\n",
    "\n",
    "def stackPositions(body_Part,Times,positions):\n",
    "    x_bPart_values_array,y_bPart_values_array=body_positions(body_Part,Times,positions)\n",
    "    All_positions=np.stack((x_bPart_values_array,y_bPart_values_array),axis=-1)\n",
    "    return(All_positions)   "
   ]
  },
  {
   "cell_type": "code",
   "execution_count": 26,
   "metadata": {},
   "outputs": [
    {
     "name": "stdout",
     "output_type": "stream",
     "text": [
      "831\n",
      "[27.03333333 27.06666667 27.1        27.13333333 27.16666667 27.2\n",
      " 27.23333333 27.26666667 27.3        27.33333333 27.36666667 27.4\n",
      " 27.43333333 27.46666667 27.5        27.53333333 27.56666667 27.6\n",
      " 27.63333333 27.66666667]\n",
      "[26.983333333333334, 27.0, 27.016666666666666, 27.033333333333335, 27.05, 27.066666666666666, 27.083333333333332, 27.1, 27.116666666666667, 27.133333333333333]\n"
     ]
    },
    {
     "ename": "ValueError",
     "evalue": "A value in x_new is above the interpolation range.",
     "output_type": "error",
     "traceback": [
      "\u001b[0;31m---------------------------------------------------------------------------\u001b[0m",
      "\u001b[0;31mValueError\u001b[0m                                Traceback (most recent call last)",
      "\u001b[0;32m<ipython-input-26-94cbf1189387>\u001b[0m in \u001b[0;36m<module>\u001b[0;34m()\u001b[0m\n\u001b[1;32m     16\u001b[0m      \u001b[0;31m#       new_positions[str(new_Times_float_mSpine[i])][bpart]=list(new_mSpine_positions[i])\u001b[0m\u001b[0;34m\u001b[0m\u001b[0;34m\u001b[0m\u001b[0m\n\u001b[1;32m     17\u001b[0m     \u001b[0;31m#else:\u001b[0m\u001b[0;34m\u001b[0m\u001b[0;34m\u001b[0m\u001b[0m\n\u001b[0;32m---> 18\u001b[0;31m     \u001b[0mnew_body_pos\u001b[0m\u001b[0;34m=\u001b[0m\u001b[0mnew_body_positions\u001b[0m\u001b[0;34m(\u001b[0m\u001b[0mbpart\u001b[0m\u001b[0;34m,\u001b[0m\u001b[0mTimes\u001b[0m\u001b[0;34m,\u001b[0m\u001b[0mpositions\u001b[0m\u001b[0;34m,\u001b[0m\u001b[0mnew_times_array\u001b[0m\u001b[0;34m)\u001b[0m\u001b[0;34m[\u001b[0m\u001b[0;36m0\u001b[0m\u001b[0;34m]\u001b[0m\u001b[0;34m\u001b[0m\u001b[0m\n\u001b[0m\u001b[1;32m     19\u001b[0m     \u001b[0;32mfor\u001b[0m \u001b[0mi\u001b[0m \u001b[0;32min\u001b[0m \u001b[0mrange\u001b[0m\u001b[0;34m(\u001b[0m\u001b[0mlen\u001b[0m\u001b[0;34m(\u001b[0m\u001b[0mnew_body_pos\u001b[0m\u001b[0;34m)\u001b[0m\u001b[0;34m)\u001b[0m\u001b[0;34m:\u001b[0m\u001b[0;34m\u001b[0m\u001b[0m\n\u001b[1;32m     20\u001b[0m         \u001b[0mnew_positions\u001b[0m\u001b[0;34m[\u001b[0m\u001b[0mstr\u001b[0m\u001b[0;34m(\u001b[0m\u001b[0mnew_times_array\u001b[0m\u001b[0;34m[\u001b[0m\u001b[0mi\u001b[0m\u001b[0;34m]\u001b[0m\u001b[0;34m)\u001b[0m\u001b[0;34m]\u001b[0m\u001b[0;34m[\u001b[0m\u001b[0mbpart\u001b[0m\u001b[0;34m]\u001b[0m\u001b[0;34m=\u001b[0m\u001b[0mlist\u001b[0m\u001b[0;34m(\u001b[0m\u001b[0mnew_body_pos\u001b[0m\u001b[0;34m[\u001b[0m\u001b[0mi\u001b[0m\u001b[0;34m]\u001b[0m\u001b[0;34m)\u001b[0m\u001b[0;34m\u001b[0m\u001b[0m\n",
      "\u001b[0;32m<ipython-input-25-1d73193bd525>\u001b[0m in \u001b[0;36mnew_body_positions\u001b[0;34m(body_part, Times, positions, times_array)\u001b[0m\n\u001b[1;32m     53\u001b[0m     \u001b[0;32mfor\u001b[0m \u001b[0mtime\u001b[0m \u001b[0;32min\u001b[0m \u001b[0mtronq_times\u001b[0m\u001b[0;34m:\u001b[0m\u001b[0;34m\u001b[0m\u001b[0m\n\u001b[1;32m     54\u001b[0m         \u001b[0mTimes_float\u001b[0m\u001b[0;34m.\u001b[0m\u001b[0mappend\u001b[0m\u001b[0;34m(\u001b[0m\u001b[0mfloat\u001b[0m\u001b[0;34m(\u001b[0m\u001b[0mtime\u001b[0m\u001b[0;34m)\u001b[0m\u001b[0;34m)\u001b[0m\u001b[0;34m\u001b[0m\u001b[0m\n\u001b[0;32m---> 55\u001b[0;31m     \u001b[0mnew_xbPart_values\u001b[0m\u001b[0;34m,\u001b[0m\u001b[0mnew_ybPart_values\u001b[0m\u001b[0;34m,\u001b[0m\u001b[0mnew_Times_float\u001b[0m\u001b[0;34m=\u001b[0m\u001b[0minterpolation\u001b[0m\u001b[0;34m(\u001b[0m\u001b[0mx_bPart_values_array\u001b[0m\u001b[0;34m,\u001b[0m\u001b[0my_bPart_values_array\u001b[0m\u001b[0;34m,\u001b[0m\u001b[0mTimes_float\u001b[0m\u001b[0;34m,\u001b[0m\u001b[0mnew_times_array\u001b[0m\u001b[0;34m)\u001b[0m\u001b[0;34m\u001b[0m\u001b[0m\n\u001b[0m\u001b[1;32m     56\u001b[0m     \u001b[0mprint\u001b[0m\u001b[0;34m(\u001b[0m\u001b[0;34m\"t \"\u001b[0m\u001b[0;34m,\u001b[0m\u001b[0mlen\u001b[0m\u001b[0;34m(\u001b[0m\u001b[0mnew_Times_float\u001b[0m\u001b[0;34m)\u001b[0m\u001b[0;34m,\u001b[0m\u001b[0;34m\"y \"\u001b[0m\u001b[0;34m,\u001b[0m\u001b[0mlen\u001b[0m\u001b[0;34m(\u001b[0m\u001b[0mnew_ybPart_values\u001b[0m\u001b[0;34m)\u001b[0m\u001b[0;34m)\u001b[0m\u001b[0;34m\u001b[0m\u001b[0m\n\u001b[1;32m     57\u001b[0m     \u001b[0mplt\u001b[0m\u001b[0;34m.\u001b[0m\u001b[0mplot\u001b[0m\u001b[0;34m(\u001b[0m\u001b[0mnew_Times_float\u001b[0m\u001b[0;34m,\u001b[0m\u001b[0mnew_ybPart_values\u001b[0m\u001b[0;34m,\u001b[0m\u001b[0;34m'red'\u001b[0m\u001b[0;34m)\u001b[0m\u001b[0;34m\u001b[0m\u001b[0m\n",
      "\u001b[0;32m<ipython-input-25-1d73193bd525>\u001b[0m in \u001b[0;36minterpolation\u001b[0;34m(x_bPart_values_array, y_bPart_values_array, Times_float, new_times_array)\u001b[0m\n\u001b[1;32m     32\u001b[0m     \u001b[0my_gen\u001b[0m \u001b[0;34m=\u001b[0m \u001b[0mscipy\u001b[0m\u001b[0;34m.\u001b[0m\u001b[0minterpolate\u001b[0m\u001b[0;34m.\u001b[0m\u001b[0minterp1d\u001b[0m\u001b[0;34m(\u001b[0m\u001b[0;34m(\u001b[0m\u001b[0;34m[\u001b[0m\u001b[0mt\u001b[0m\u001b[0;34m-\u001b[0m\u001b[0mTimes_float\u001b[0m\u001b[0;34m[\u001b[0m\u001b[0;36m0\u001b[0m\u001b[0;34m]\u001b[0m \u001b[0;32mfor\u001b[0m \u001b[0mt\u001b[0m \u001b[0;32min\u001b[0m \u001b[0mTimes_float\u001b[0m\u001b[0;34m]\u001b[0m\u001b[0;34m)\u001b[0m\u001b[0;34m,\u001b[0m \u001b[0my_bPart_values_array\u001b[0m\u001b[0;34m)\u001b[0m\u001b[0;34m\u001b[0m\u001b[0m\n\u001b[1;32m     33\u001b[0m     \u001b[0mprint\u001b[0m\u001b[0;34m(\u001b[0m\u001b[0msorted\u001b[0m\u001b[0;34m(\u001b[0m\u001b[0mTimes_float\u001b[0m\u001b[0;34m)\u001b[0m\u001b[0;34m[\u001b[0m\u001b[0;34m-\u001b[0m\u001b[0;36m10\u001b[0m\u001b[0;34m:\u001b[0m\u001b[0;34m]\u001b[0m\u001b[0;34m)\u001b[0m\u001b[0;34m\u001b[0m\u001b[0m\n\u001b[0;32m---> 34\u001b[0;31m     \u001b[0my_gen\u001b[0m\u001b[0;34m(\u001b[0m\u001b[0mnew_times_array\u001b[0m\u001b[0;34m)\u001b[0m\u001b[0;34m\u001b[0m\u001b[0m\n\u001b[0m\u001b[1;32m     35\u001b[0m     \u001b[0mprint\u001b[0m\u001b[0;34m(\u001b[0m\u001b[0mlen\u001b[0m\u001b[0;34m(\u001b[0m\u001b[0my_gen\u001b[0m\u001b[0;34m(\u001b[0m\u001b[0mnew_times_array\u001b[0m\u001b[0;34m)\u001b[0m\u001b[0;34m)\u001b[0m\u001b[0;34m)\u001b[0m\u001b[0;34m\u001b[0m\u001b[0m\n\u001b[1;32m     36\u001b[0m     \u001b[0;32mfor\u001b[0m \u001b[0mi\u001b[0m \u001b[0;32min\u001b[0m \u001b[0mrange\u001b[0m\u001b[0;34m(\u001b[0m\u001b[0mlen\u001b[0m\u001b[0;34m(\u001b[0m\u001b[0mnew_times_array\u001b[0m\u001b[0;34m)\u001b[0m\u001b[0;34m)\u001b[0m\u001b[0;34m:\u001b[0m\u001b[0;34m\u001b[0m\u001b[0m\n",
      "\u001b[0;32m~/.local/lib/python3.6/site-packages/scipy/interpolate/polyint.py\u001b[0m in \u001b[0;36m__call__\u001b[0;34m(self, x)\u001b[0m\n\u001b[1;32m     77\u001b[0m         \"\"\"\n\u001b[1;32m     78\u001b[0m         \u001b[0mx\u001b[0m\u001b[0;34m,\u001b[0m \u001b[0mx_shape\u001b[0m \u001b[0;34m=\u001b[0m \u001b[0mself\u001b[0m\u001b[0;34m.\u001b[0m\u001b[0m_prepare_x\u001b[0m\u001b[0;34m(\u001b[0m\u001b[0mx\u001b[0m\u001b[0;34m)\u001b[0m\u001b[0;34m\u001b[0m\u001b[0m\n\u001b[0;32m---> 79\u001b[0;31m         \u001b[0my\u001b[0m \u001b[0;34m=\u001b[0m \u001b[0mself\u001b[0m\u001b[0;34m.\u001b[0m\u001b[0m_evaluate\u001b[0m\u001b[0;34m(\u001b[0m\u001b[0mx\u001b[0m\u001b[0;34m)\u001b[0m\u001b[0;34m\u001b[0m\u001b[0m\n\u001b[0m\u001b[1;32m     80\u001b[0m         \u001b[0;32mreturn\u001b[0m \u001b[0mself\u001b[0m\u001b[0;34m.\u001b[0m\u001b[0m_finish_y\u001b[0m\u001b[0;34m(\u001b[0m\u001b[0my\u001b[0m\u001b[0;34m,\u001b[0m \u001b[0mx_shape\u001b[0m\u001b[0;34m)\u001b[0m\u001b[0;34m\u001b[0m\u001b[0m\n\u001b[1;32m     81\u001b[0m \u001b[0;34m\u001b[0m\u001b[0m\n",
      "\u001b[0;32m~/.local/lib/python3.6/site-packages/scipy/interpolate/interpolate.py\u001b[0m in \u001b[0;36m_evaluate\u001b[0;34m(self, x_new)\u001b[0m\n\u001b[1;32m    662\u001b[0m         \u001b[0my_new\u001b[0m \u001b[0;34m=\u001b[0m \u001b[0mself\u001b[0m\u001b[0;34m.\u001b[0m\u001b[0m_call\u001b[0m\u001b[0;34m(\u001b[0m\u001b[0mself\u001b[0m\u001b[0;34m,\u001b[0m \u001b[0mx_new\u001b[0m\u001b[0;34m)\u001b[0m\u001b[0;34m\u001b[0m\u001b[0m\n\u001b[1;32m    663\u001b[0m         \u001b[0;32mif\u001b[0m \u001b[0;32mnot\u001b[0m \u001b[0mself\u001b[0m\u001b[0;34m.\u001b[0m\u001b[0m_extrapolate\u001b[0m\u001b[0;34m:\u001b[0m\u001b[0;34m\u001b[0m\u001b[0m\n\u001b[0;32m--> 664\u001b[0;31m             \u001b[0mbelow_bounds\u001b[0m\u001b[0;34m,\u001b[0m \u001b[0mabove_bounds\u001b[0m \u001b[0;34m=\u001b[0m \u001b[0mself\u001b[0m\u001b[0;34m.\u001b[0m\u001b[0m_check_bounds\u001b[0m\u001b[0;34m(\u001b[0m\u001b[0mx_new\u001b[0m\u001b[0;34m)\u001b[0m\u001b[0;34m\u001b[0m\u001b[0m\n\u001b[0m\u001b[1;32m    665\u001b[0m             \u001b[0;32mif\u001b[0m \u001b[0mlen\u001b[0m\u001b[0;34m(\u001b[0m\u001b[0my_new\u001b[0m\u001b[0;34m)\u001b[0m \u001b[0;34m>\u001b[0m \u001b[0;36m0\u001b[0m\u001b[0;34m:\u001b[0m\u001b[0;34m\u001b[0m\u001b[0m\n\u001b[1;32m    666\u001b[0m                 \u001b[0;31m# Note fill_value must be broadcast up to the proper size\u001b[0m\u001b[0;34m\u001b[0m\u001b[0;34m\u001b[0m\u001b[0m\n",
      "\u001b[0;32m~/.local/lib/python3.6/site-packages/scipy/interpolate/interpolate.py\u001b[0m in \u001b[0;36m_check_bounds\u001b[0;34m(self, x_new)\u001b[0m\n\u001b[1;32m    694\u001b[0m                              \"range.\")\n\u001b[1;32m    695\u001b[0m         \u001b[0;32mif\u001b[0m \u001b[0mself\u001b[0m\u001b[0;34m.\u001b[0m\u001b[0mbounds_error\u001b[0m \u001b[0;32mand\u001b[0m \u001b[0mabove_bounds\u001b[0m\u001b[0;34m.\u001b[0m\u001b[0many\u001b[0m\u001b[0;34m(\u001b[0m\u001b[0;34m)\u001b[0m\u001b[0;34m:\u001b[0m\u001b[0;34m\u001b[0m\u001b[0m\n\u001b[0;32m--> 696\u001b[0;31m             raise ValueError(\"A value in x_new is above the interpolation \"\n\u001b[0m\u001b[1;32m    697\u001b[0m                              \"range.\")\n\u001b[1;32m    698\u001b[0m \u001b[0;34m\u001b[0m\u001b[0m\n",
      "\u001b[0;31mValueError\u001b[0m: A value in x_new is above the interpolation range."
     ]
    }
   ],
   "source": [
    "bParts=['Head', 'mShoulder', 'rShoulder', 'rElbow', 'rWrist', 'lShoulder', 'lElbow', 'lWrist', 'rHip', 'rKnee', 'rAnkle', 'lHip', 'lKnee', 'lAnkle']\n",
    "T=27 #Duration Time\n",
    "#new_body_pos,new_Times_float_mSpine=new_body_positions('mSpine',Times,positions)\n",
    "new_positions={}\n",
    "#fps=frames_count/T-1\n",
    "fps=30\n",
    "new_times_array = np.arange(0, T, 1/fps)\n",
    "print(len(new_times_array))\n",
    "print(new_times_array[-20:])\n",
    "for time in new_times_array:\n",
    "    new_positions[str(time)]={}\n",
    "    \n",
    "for bpart in bParts:\n",
    "    #if bpart=='mSpine':\n",
    "      #  for i in range(len(new_body_pos)):\n",
    "     #       new_positions[str(new_Times_float_mSpine[i])][bpart]=list(new_mSpine_positions[i])\n",
    "    #else:\n",
    "    new_body_pos=new_body_positions(bpart,Times,positions,new_times_array)[0]\n",
    "    for i in range(len(new_body_pos)):\n",
    "        new_positions[str(new_times_array[i])][bpart]=list(new_body_pos[i])\n"
   ]
  },
  {
   "cell_type": "code",
   "execution_count": 33,
   "metadata": {},
   "outputs": [],
   "source": [
    "interpolated_data={}\n",
    "interpolated_data['positions']=new_positions"
   ]
  },
  {
   "cell_type": "code",
   "execution_count": 34,
   "metadata": {},
   "outputs": [],
   "source": [
    "with open(\"./Données/Mobilenet/chris1/chris1_1_interpolated.txt\", 'w') as outfile:\n",
    "     json.dump(interpolated_data, outfile, sort_keys = True, indent = 4,\n",
    "               ensure_ascii = False)"
   ]
  },
  {
   "cell_type": "code",
   "execution_count": null,
   "metadata": {},
   "outputs": [],
   "source": []
  }
 ],
 "metadata": {
  "kernelspec": {
   "display_name": "Python 3",
   "language": "python",
   "name": "python3"
  },
  "language_info": {
   "codemirror_mode": {
    "name": "ipython",
    "version": 3
   },
   "file_extension": ".py",
   "mimetype": "text/x-python",
   "name": "python",
   "nbconvert_exporter": "python",
   "pygments_lexer": "ipython3",
   "version": "3.6.5"
  }
 },
 "nbformat": 4,
 "nbformat_minor": 2
}
