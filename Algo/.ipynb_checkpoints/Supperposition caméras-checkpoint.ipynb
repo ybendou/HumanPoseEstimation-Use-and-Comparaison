{
 "cells": [
  {
   "cell_type": "code",
   "execution_count": 4,
   "metadata": {},
   "outputs": [],
   "source": [
    "import numpy as np\n",
    "import json\n",
    "import scipy.interpolate\n",
    "import matplotlib.pyplot as plt\n",
    "from collections import OrderedDict\n",
    "from pprint import pprint\n"
   ]
  },
  {
   "cell_type": "code",
   "execution_count": 5,
   "metadata": {},
   "outputs": [
    {
     "name": "stdout",
     "output_type": "stream",
     "text": [
      "./Données/Kinect/chris1/chris1_1.txt\n"
     ]
    }
   ],
   "source": [
    "camera=\"Kinect\"\n",
    "if camera==\"Kinect\":\n",
    "    form=\".txt\"\n",
    "elif camera==\"Xsens\":\n",
    "    form=\".mvnx\"\n",
    "file_name=\"./Données/%s/chris1/chris1_1%s\"%(camera,form)\n",
    "print(file_name)"
   ]
  },
  {
   "cell_type": "code",
   "execution_count": 6,
   "metadata": {},
   "outputs": [
    {
     "name": "stdout",
     "output_type": "stream",
     "text": [
      "./Données/Kinect/chris1/chris1_1.txt\n"
     ]
    }
   ],
   "source": [
    "file_name2=\"./Données/Xsens/chris1/chris1_1.txt\"\n",
    "print(file_name)"
   ]
  },
  {
   "cell_type": "code",
   "execution_count": 7,
   "metadata": {},
   "outputs": [],
   "source": [
    "\n",
    "with open(file_name) as f:\n",
    "    data = json.load(f, object_pairs_hook=OrderedDict)\n",
    "Times=list(data['positions'].keys())\n",
    "positions=data['positions']"
   ]
  },
  {
   "cell_type": "code",
   "execution_count": null,
   "metadata": {},
   "outputs": [],
   "source": []
  },
  {
   "cell_type": "code",
   "execution_count": null,
   "metadata": {},
   "outputs": [],
   "source": [
    "common_body_parts=['Head', 'lAnkle', 'lElbow', 'lHip', 'lKnee', 'lShoulder', 'lWrist', 'mShoulder', 'rAnkle', 'rElbow', 'rHip', 'rKnee', 'rShoulder', 'rWrist']\n"
   ]
  },
  {
   "cell_type": "code",
   "execution_count": null,
   "metadata": {},
   "outputs": [],
   "source": [
    "y1"
   ]
  },
  {
   "cell_type": "code",
   "execution_count": null,
   "metadata": {},
   "outputs": [],
   "source": [
    "x1"
   ]
  },
  {
   "cell_type": "code",
   "execution_count": 223,
   "metadata": {},
   "outputs": [
    {
     "data": {
      "image/png": "[encoded data removed]",
      "text/plain": [
       "<Figure size 432x288 with 1 Axes>"
      ]
     },
     "metadata": {},
     "output_type": "display_data"
    }
   ],
   "source": [
    "x1=[]\n",
    "x2=[]\n",
    "x3=[]\n",
    "y1=[]\n",
    "y2=[]\n",
    "y3=[]\n",
    "z1=[]\n",
    "z2=[]\n",
    "common_body_parts=['Head', 'lAnkle', 'lElbow', 'lHip', 'lKnee', 'lShoulder', 'lWrist', 'mShoulder', 'rAnkle', 'rElbow', 'rHip', 'rKnee', 'rShoulder', 'rWrist']\n",
    "\n",
    "for bPart in common_body_parts:\n",
    "    x1.append((first_frame[bPart][1]))\n",
    "    y1.append(first_frame[bPart][2])\n",
    "    z1.append(first_frame[bPart][0])\n",
    "for bPart in first_frame2.keys():\n",
    "    x2.append(float(first_frame2[bPart][1]))\n",
    "    y2.append(float(first_frame2[bPart][2]))\n",
    "    z2.append(first_frame2[bPart][0])\n",
    "for bPart in mobilenet_pos.keys():\n",
    "    x3.append(mobilenet_pos[bPart][0])\n",
    "    y3.append(-mobilenet_pos[bPart][1])\n",
    "#Kinect\n",
    "plt.plot(x1,y1,'ro')\n",
    "#Xsens\n",
    "#plt.plot(x2,y2,'bo')\n",
    "x_Pelvis,y_Pelvis=float(first_frame2['Pelvis'][1]),float(first_frame2['Pelvis'][2])\n",
    "x_T8,y_T8=float(first_frame2['T8'][1]),float(first_frame2['T8'][2])\n",
    "plt.plot(first_frame['mShoulder'][1],first_frame['mShoulder'][2],'ro')\n",
    "\n",
    "#plt.plot(x_Pelvis,y_Pelvis,'go')\n",
    "#plt.plot(x_T8,y_T8,'go')\n",
    "#plt.plot([x_Pelvis,x_T8],[y_Pelvis,y_T8])\n",
    "x_Lknee,y_Lknee,z_Lknee=float(first_frame2['LeftLowerLeg'][1]),float(first_frame2['LeftLowerLeg'][2]),float(first_frame2['LeftLowerLeg'][0])\n",
    "#plt.plot(x_Lknee,y_Lknee,'go')\n",
    "#Mobilenet\n",
    "plt.plot(x3,y3,'go')\n",
    "plt.show()\n"
   ]
  },
  {
   "cell_type": "code",
   "execution_count": 189,
   "metadata": {},
   "outputs": [
    {
     "data": {
      "text/plain": [
       "(0.0, 0.0)"
      ]
     },
     "execution_count": 189,
     "metadata": {},
     "output_type": "execute_result"
    }
   ],
   "source": [
    "x_mS,y_mS=float(mobilenet_pos['1'][0]),float(mobilenet_pos['1'][1])\n",
    "\n",
    "x_mS-first_frame['mShoulder'][1],y_mS-first_frame['mShoulder'][2]"
   ]
  },
  {
   "cell_type": "code",
   "execution_count": 222,
   "metadata": {},
   "outputs": [],
   "source": [
    "scale=1.5\n",
    "for bPart in mobilenet_pos.keys():\n",
    "    pos=mobilenet_pos[bPart]\n",
    "    \n",
    "    scale_x=pos[0]*scale\n",
    "    scale_y=pos[1]*scale\n",
    "    mobilenet_pos[bPart]=[scale_x,scale_y]"
   ]
  },
  {
   "cell_type": "code",
   "execution_count": 205,
   "metadata": {},
   "outputs": [
    {
     "data": {
      "text/plain": [
       "odict_keys(['Head', 'Neck', 'bSpine', 'lAnkle', 'lElbow', 'lHand', 'lHip', 'lKnee', 'lShoulder', 'lThumb', 'lWrist', 'mShoulder', 'mSpine', 'rAnkle', 'rElbow', 'rHand', 'rHip', 'rKnee', 'rShoulder', 'rThumb', 'rWrist'])"
      ]
     },
     "execution_count": 205,
     "metadata": {},
     "output_type": "execute_result"
    }
   ],
   "source": [
    "first_frame.keys()"
   ]
  },
  {
   "cell_type": "code",
   "execution_count": 224,
   "metadata": {},
   "outputs": [],
   "source": [
    "x_RkneeK,y_RkneeK=float(first_frame['rKnee'][1]),float(first_frame['rKnee'][2])\n",
    "x_RAnkleK,y_RAnkleK=float(first_frame['rAnkle'][1]),float(first_frame['rAnkle'][2])\n",
    "x_LkneeK,y_LkneeK=float(first_frame['lKnee'][1]),float(first_frame['lKnee'][2])\n",
    "x_LAnkleK,y_LAnkleK=float(first_frame['lAnkle'][1]),float(first_frame['lAnkle'][2])\n",
    "\n",
    "x_RkneeM,y_RkneeM=mobilenet_pos['9'][0],mobilenet_pos['9'][0]\n",
    "x_RAnkleM,y_RAnkleM=mobilenet_pos['10'][0],mobilenet_pos['10'][0]\n",
    "x_LkneeM,y_LkneeM=mobilenet_pos['12'][0],mobilenet_pos['12'][0]\n",
    "x_LAnkleM,y_LAnkleM=mobilenet_pos['13'][0],mobilenet_pos['13'][0]"
   ]
  },
  {
   "cell_type": "code",
   "execution_count": null,
   "metadata": {},
   "outputs": [],
   "source": []
  },
  {
   "cell_type": "code",
   "execution_count": 225,
   "metadata": {},
   "outputs": [],
   "source": [
    "distance_RightM=np.sqrt((x_RkneeM-x_RAnkleM)**2+(y_RkneeM-y_RAnkleM)**2)\n",
    "distance_LeftM=np.sqrt((x_LkneeM-x_LAnkleM)**2+(y_LkneeM-y_LAnkleM)**2)\n",
    "\n",
    "distance_RightK=np.sqrt((x_RkneeK-x_RAnkleK)**2+(y_RkneeK-y_RAnkleK)**2)\n",
    "distance_LeftK=np.sqrt((x_LkneeK-x_LAnkleK)**2+(y_LkneeK-y_LAnkleK)**2)\n",
    "\n"
   ]
  },
  {
   "cell_type": "code",
   "execution_count": 226,
   "metadata": {},
   "outputs": [
    {
     "data": {
      "text/plain": [
       "(7.055674164616843, 0.26692099640822176)"
      ]
     },
     "execution_count": 226,
     "metadata": {},
     "output_type": "execute_result"
    }
   ],
   "source": [
    "(distance_RightK/distance_RightM),(distance_LeftK-distance_LeftM)"
   ]
  },
  {
   "cell_type": "code",
   "execution_count": 220,
   "metadata": {},
   "outputs": [],
   "source": [
    "mobilenet_pos={'0': [0.5231481481481481, 0.08695652173913043],\n",
    " '1': [0.5185185185185185, 0.22826086956521738],\n",
    " '2': [0.46296296296296297, 0.22826086956521738],\n",
    " '3': [0.4398148148148148, 0.3695652173913043],\n",
    " '4': [0.4212962962962963, 0.532608695652174],\n",
    " '5': [0.5740740740740741, 0.23369565217391305],\n",
    " '6': [0.6111111111111112, 0.3858695652173913],\n",
    " '7': [0.6527777777777778, 0.5434782608695652],\n",
    " '8': [0.4722222222222222, 0.5163043478260869],\n",
    " '9': [0.44907407407407407, 0.6413043478260869],\n",
    " '10': [0.4722222222222222, 0.9130434782608695],\n",
    " '11': [0.5648148148148148, 0.5108695652173914],\n",
    " '12': [0.5972222222222222, 0.6086956521739131],\n",
    " '13': [0.5648148148148148, 0.8858695652173914],\n",
    " '14': [0.5092592592592593, 0.07065217391304347],\n",
    " '15': [0.5370370370370371, 0.07608695652173914],\n",
    " '16': [0.49074074074074076, 0.09239130434782608],\n",
    " '17': [0.5555555555555556, 0.09782608695652174]}"
   ]
  },
  {
   "cell_type": "code",
   "execution_count": 188,
   "metadata": {},
   "outputs": [],
   "source": [
    "translateMobilenet=[0.5252429031318536, -0.6673217960025953]\n",
    "for bPart in mobilenet_pos.keys():\n",
    "    pos=mobilenet_pos[bPart]\n",
    "    \n",
    "    trans_x=pos[0]-translateMobilenet[0]\n",
    "    trans_y=-pos[1]-translateMobilenet[1]\n",
    "    mobilenet_pos[bPart]=[trans_x,trans_y]"
   ]
  },
  {
   "cell_type": "code",
   "execution_count": 152,
   "metadata": {},
   "outputs": [
    {
     "data": {
      "text/plain": [
       "(0.0, 0.0)"
      ]
     },
     "execution_count": 152,
     "metadata": {},
     "output_type": "execute_result"
    }
   ],
   "source": [
    "x_T8,y_T8=float(first_frame2['T8'][1]),float(first_frame2['T8'][2])\n",
    "x_T8-first_frame['mShoulder'][1],y_T8-first_frame['mShoulder'][2]"
   ]
  },
  {
   "cell_type": "code",
   "execution_count": 149,
   "metadata": {},
   "outputs": [],
   "source": [
    "\n",
    "with open(file_name2) as f2:\n",
    "    data2 = json.load(f2, object_pairs_hook=OrderedDict)\n",
    "Times2=list(data2['positions'].keys())\n",
    "positions2=data2['positions']\n",
    "first_frame2=positions2['0.0']\n",
    "first_frame=positions['0.00045123376082756295']\n"
   ]
  },
  {
   "cell_type": "code",
   "execution_count": 150,
   "metadata": {},
   "outputs": [],
   "source": [
    "#For Xsens : rotation then translation\n",
    "teta=np.pi/11\n",
    "Rotation_y=np.array([[np.cos(teta),-np.sin(teta),0],[np.sin(teta),np.cos(teta),0],[0,0,1]])\n",
    "for bPart in first_frame2.keys():\n",
    "    pos=first_frame2[bPart]\n",
    "    pos_float=[]\n",
    "    for coord in pos:\n",
    "        pos_float.append(float(coord))\n",
    "    first_frame2[bPart]=np.dot(pos_float,Rotation_y)\n",
    "    "
   ]
  },
  {
   "cell_type": "code",
   "execution_count": 151,
   "metadata": {},
   "outputs": [],
   "source": [
    "translateXSens=[-0.04636600623259371, 0.5451910735626221]\n",
    "for bPart in first_frame2.keys():\n",
    "    pos=first_frame2[bPart]\n",
    "    pos_float=[]\n",
    "    for coord in pos:\n",
    "        pos_float.append(float(coord))\n",
    "    trans_x=pos_float[1]-translateXSens[0]\n",
    "    trans_y=pos_float[2]-translatetXSens[1]\n",
    "    first_frame2[bPart]=[pos_float[0],trans_x,trans_y]"
   ]
  },
  {
   "cell_type": "code",
   "execution_count": 59,
   "metadata": {},
   "outputs": [],
   "source": [
    "x_Rknee,y_Rknee,z_Rknee=float(first_frame2['RightLowerLeg'][1]),float(first_frame2['RightLowerLeg'][2]),float(first_frame2['RightLowerLeg'][0])\n",
    "x_Rhip,y_Rhip,z_Rhip=float(first_frame2['RightUpperLeg'][1]),float(first_frame2['RightUpperLeg'][2]),float(first_frame2['RightUpperLeg'][0])\n",
    "x_Lknee,y_Lknee,z_Lknee=float(first_frame2['LeftLowerLeg'][1]),float(first_frame2['LeftLowerLeg'][2]),float(first_frame2['LeftLowerLeg'][0])\n",
    "x_Lhip,y_Lhip,z_Lhip=float(first_frame2['LeftUpperLeg'][1]),float(first_frame2['LeftUpperLeg'][2]),float(first_frame2['LeftUpperLeg'][0])\n",
    "\n",
    "x_RShoulder,y_RShoulder,z_RShoulder=float(first_frame2['RightShoulder'][1]),float(first_frame2['RightShoulder'][2]),float(first_frame2['RightShoulder'][0])\n",
    "x_LShoulder,y_LShoulder,z_LShoulder=float(first_frame2['LeftShoulder'][1]),float(first_frame2['LeftShoulder'][2]),float(first_frame2['LeftShoulder'][0])\n",
    "x_Pelvis,y_Pelvis=float(first_frame2['Pelvis'][1]),float(first_frame2['Pelvis'][2])\n",
    "\n"
   ]
  },
  {
   "cell_type": "code",
   "execution_count": 60,
   "metadata": {},
   "outputs": [],
   "source": [
    "distance_Right=np.sqrt((x_Rknee-x_Rhip)**2+(y_Rknee-y_Rhip)**2)\n",
    "distance_Left=np.sqrt((x_Lknee-x_Lhip)**2+(y_Lknee-y_Lhip)**2)\n",
    "\n",
    "distance2_Right=np.sqrt((x_RShoulder-x_Pelvis)**2+(y_RShoulder-y_Pelvis)**2)\n",
    "distance2_Left=np.sqrt((x_LShoulder-x_Pelvis)**2+(y_LShoulder-y_Pelvis)**2)\n",
    "\n"
   ]
  },
  {
   "cell_type": "code",
   "execution_count": 61,
   "metadata": {},
   "outputs": [
    {
     "data": {
      "text/plain": [
       "(0.00735539654342586, -6.833491377450374e-05)"
      ]
     },
     "execution_count": 61,
     "metadata": {},
     "output_type": "execute_result"
    }
   ],
   "source": [
    "(distance_Left-distance_Right),(distance2_Left-distance2_Right)"
   ]
  },
  {
   "cell_type": "code",
   "execution_count": 24,
   "metadata": {},
   "outputs": [
    {
     "data": {
      "text/plain": [
       "(0.001890576103076455, -3.518455762063777e-05)"
      ]
     },
     "execution_count": 24,
     "metadata": {},
     "output_type": "execute_result"
    }
   ],
   "source": [
    "(distance_Left-distance_Right),(distance2_Left-distance2_Right)"
   ]
  }
 ],
 "metadata": {
  "kernelspec": {
   "display_name": "Python 3",
   "language": "python",
   "name": "python3"
  },
  "language_info": {
   "codemirror_mode": {
    "name": "ipython",
    "version": 3
   },
   "file_extension": ".py",
   "mimetype": "text/x-python",
   "name": "python",
   "nbconvert_exporter": "python",
   "pygments_lexer": "ipython3",
   "version": "3.6.5"
  }
 },
 "nbformat": 4,
 "nbformat_minor": 2
}
